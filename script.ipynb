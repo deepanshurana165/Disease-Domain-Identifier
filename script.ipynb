{
 "cells": [
  {
   "cell_type": "code",
   "execution_count": 1,
   "metadata": {},
   "outputs": [],
   "source": [
    "import pandas as pd\n",
    "import numpy as np\n",
    "import get_disease\n",
    "import re"
   ]
  },
  {
   "cell_type": "code",
   "execution_count": 2,
   "metadata": {},
   "outputs": [],
   "source": [
    "def stop_loop(new_sym,poss_d):\n",
    "    first=get_disease.data_clean[poss_d[0]][\"sym\"]\n",
    "    \n",
    "    for i in poss_d:\n",
    "    \n",
    "        if first != get_disease.data_clean[i][\"sym\"]:\n",
    "            return True\n",
    "    \n",
    "    return False"
   ]
  },
  {
   "cell_type": "code",
   "execution_count": 3,
   "metadata": {},
   "outputs": [],
   "source": [
    "def chat(symptom_i,diseases=[]):\n",
    "    k=2\n",
    "    \n",
    "    for i in get_disease.data_clean.keys():            \n",
    "        if symptom_i in get_disease.data_clean[i][\"sym\"]:\n",
    "            diseases.append(i)\n",
    "\n",
    "    new_sym=get_disease.get_diseases(diseases)\n",
    "    \n",
    "    while(stop_loop(new_sym,diseases)):\n",
    "        \n",
    "        poss_d=diseases\n",
    "        \n",
    "        if get_disease.sym_id[new_sym]==\"dont know\":\n",
    "            ans=0\n",
    "        \n",
    "        else:\n",
    "            print(get_disease.sym_id[new_sym])\n",
    "            ans=int(input())\n",
    "        \n",
    "        diseases=[]\n",
    "        \n",
    "        if ans==1:\n",
    "            for i in poss_d:\n",
    "                if new_sym in get_disease.data_clean[i][\"sym\"]:\n",
    "                    diseases.append(i)\n",
    "        else:\n",
    "            for i in poss_d:\n",
    "                if new_sym not in get_disease.data_clean[i][\"sym\"]:\n",
    "                    diseases.append(i)\n",
    "        \n",
    "        if new_sym==-1:\n",
    "            return [get_disease.disease_id[i] for i in diseases]\n",
    "        \n",
    "        new_sym=get_disease.get_diseases(diseases)\n",
    "\n",
    "    return [get_disease.disease_id[i] for i in diseases]"
   ]
  },
  {
   "cell_type": "code",
   "execution_count": 6,
   "metadata": {},
   "outputs": [
    {
     "name": "stderr",
     "output_type": "stream",
     "text": [
      "/home/kartik/anaconda3/lib/python3.6/site-packages/sklearn/ensemble/forest.py:248: FutureWarning: The default value of n_estimators will change from 10 in version 0.20 to 100 in 0.22.\n",
      "  \"10 in version 0.20 to 100 in 0.22.\", FutureWarning)\n"
     ]
    },
    {
     "name": "stdout",
     "output_type": "stream",
     "text": [
      "Chills\n",
      "1\n"
     ]
    },
    {
     "name": "stderr",
     "output_type": "stream",
     "text": [
      "/home/kartik/anaconda3/lib/python3.6/site-packages/sklearn/ensemble/forest.py:248: FutureWarning: The default value of n_estimators will change from 10 in version 0.20 to 100 in 0.22.\n",
      "  \"10 in version 0.20 to 100 in 0.22.\", FutureWarning)\n"
     ]
    },
    {
     "name": "stdout",
     "output_type": "stream",
     "text": [
      "Flank pain\n",
      "1\n"
     ]
    },
    {
     "name": "stderr",
     "output_type": "stream",
     "text": [
      "/home/kartik/anaconda3/lib/python3.6/site-packages/sklearn/ensemble/forest.py:248: FutureWarning: The default value of n_estimators will change from 10 in version 0.20 to 100 in 0.22.\n",
      "  \"10 in version 0.20 to 100 in 0.22.\", FutureWarning)\n"
     ]
    }
   ],
   "source": [
    "diseases = chat(get_disease.id_sym[\"Cough\"])"
   ]
  },
  {
   "cell_type": "code",
   "execution_count": 10,
   "metadata": {},
   "outputs": [],
   "source": [
    "diseases = re.split('[\\x01-\\x1f\\x7f]+', diseases[0])"
   ]
  },
  {
   "cell_type": "code",
   "execution_count": 11,
   "metadata": {},
   "outputs": [
    {
     "data": {
      "text/plain": [
       "['Pneumonia', 'lung infection']"
      ]
     },
     "execution_count": 11,
     "metadata": {},
     "output_type": "execute_result"
    }
   ],
   "source": [
    "diseases"
   ]
  }
 ],
 "metadata": {
  "kernelspec": {
   "display_name": "Python 3",
   "language": "python",
   "name": "python3"
  },
  "language_info": {
   "codemirror_mode": {
    "name": "ipython",
    "version": 3
   },
   "file_extension": ".py",
   "mimetype": "text/x-python",
   "name": "python",
   "nbconvert_exporter": "python",
   "pygments_lexer": "ipython3",
   "version": "3.6.6"
  }
 },
 "nbformat": 4,
 "nbformat_minor": 2
}
