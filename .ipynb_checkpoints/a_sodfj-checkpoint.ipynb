{
 "cells": [
  {
   "cell_type": "code",
   "execution_count": 1,
   "metadata": {},
   "outputs": [],
   "source": [
    "import pandas as pd\n",
    "import numpy as np\n",
    "from sklearn import tree"
   ]
  },
  {
   "cell_type": "code",
   "execution_count": 2,
   "metadata": {},
   "outputs": [
    {
     "data": {
      "text/plain": [
       "(1166, 272, 1166)"
      ]
     },
     "execution_count": 2,
     "metadata": {},
     "output_type": "execute_result"
    }
   ],
   "source": [
    "data=pd.read_csv(\"./diffsydiw.csv\")\n",
    "\n",
    "dia_t=pd.read_csv(\"./dia_t.csv\")\n",
    "disease_id={}\n",
    "for i in range(dia_t.shape[0]):\n",
    "    if pd.isna(dia_t.iloc[i].did):\n",
    "        continue\n",
    "    disease_id[dia_t.iloc[i].did]=dia_t.iloc[i].diagnose\n",
    "\n",
    "\n",
    "sym_t=pd.read_csv(\"./sym_t.csv\")\n",
    "sym_id={}\n",
    "for i in range(sym_t.shape[0]):\n",
    "    if pd.isna(sym_t.iloc[i].symptom):\n",
    "        sym_id[sym_t.iloc[i].syd]=\"dont know\"\n",
    "        continue\n",
    "    sym_id[sym_t.iloc[i].syd]=sym_t.iloc[i].symptom\n",
    "\n",
    "\n",
    "data_clean={}\n",
    "for i in range(data.shape[0]):\n",
    "    if pd.isna(data.iloc[i].did) or pd.isna(data.iloc[i].syd) :\n",
    "        continue\n",
    "    if data.iloc[i].did not in data_clean.keys():\n",
    "        data_clean[data.iloc[i].did]={}\n",
    "        data_clean[data.iloc[i].did][\"sym\"]=[]\n",
    "#         data_clean[data.iloc[i].did][\"wei\"]=[]\n",
    "        data_clean[data.iloc[i].did][\"sym\"].append(data.iloc[i].syd)\n",
    "#         if not pd.isna(data.iloc[i].wei):\n",
    "#             data_clean[data.iloc[i].did][\"wei\"].append(data.iloc[i].wei)\n",
    "    else:\n",
    "        data_clean[data.iloc[i].did][\"sym\"].append(data.iloc[i].syd)\n",
    "#         if not pd.isna(data.iloc[i].wei):\n",
    "#             data_clean[data.iloc[i].did][\"wei\"].append(data.iloc[i].wei)\n",
    "\n",
    "len(disease_id),len(sym_id),len(data_clean)"
   ]
  },
  {
   "cell_type": "code",
   "execution_count": 208,
   "metadata": {},
   "outputs": [],
   "source": [
    "dim=max(sym_id.keys())+1\n",
    "def one_hot(diseases):\n",
    "    data=[]\n",
    "    disease_id=[]\n",
    "    for i in diseases:\n",
    "        arr=np.zeros(dim)\n",
    "        for j in data_clean[i][\"sym\"]:\n",
    "            arr[int(j)]=1\n",
    "        data.append(arr)\n",
    "        disease_id.append(i)\n",
    "    return data,disease_id            "
   ]
  },
  {
   "cell_type": "code",
   "execution_count": 209,
   "metadata": {},
   "outputs": [],
   "source": [
    "#input\n",
    "symptom_i=163"
   ]
  },
  {
   "cell_type": "code",
   "execution_count": 358,
   "metadata": {},
   "outputs": [],
   "source": [
    "def get_diseases(symptom_i):\n",
    "    diseases=[]\n",
    "    for i in data_clean.keys():\n",
    "        if symptom_i in data_clean[i][\"sym\"]:\n",
    "            diseases.append(i)\n",
    "\n",
    "\n",
    "    data,ids=one_hot(diseases)\n",
    "    ids\n",
    "\n",
    "    Dtree=tree.DecisionTreeClassifier(max_depth=1, random_state=1)\n",
    "\n",
    "    Dtree.fit(data,ids)\n",
    "\n",
    "    return np.argmax(Dtree.feature_importances_),diseases"
   ]
  },
  {
   "cell_type": "code",
   "execution_count": 359,
   "metadata": {},
   "outputs": [
    {
     "data": {
      "text/plain": [
       "(155,\n",
       " [55.0, 340.0, 424.0, 436.0, 491.0, 830.0, 172.0, 318.0, 562.0, 978.0, 1513.0])"
      ]
     },
     "execution_count": 359,
     "metadata": {},
     "output_type": "execute_result"
    }
   ],
   "source": [
    "get_diseases(symptom_i)"
   ]
  },
  {
   "cell_type": "code",
   "execution_count": 361,
   "metadata": {},
   "outputs": [],
   "source": [
    "def chat(initial_symptom):\n",
    "    get_diseases(initial_symptom)"
   ]
  },
  {
   "cell_type": "code",
   "execution_count": null,
   "metadata": {},
   "outputs": [],
   "source": [
    "while True:\n",
    "    next_symptom, disease_possible = chat(initial_symptom)"
   ]
  }
 ],
 "metadata": {
  "kernelspec": {
   "display_name": "Python 3",
   "language": "python",
   "name": "python3"
  },
  "language_info": {
   "codemirror_mode": {
    "name": "ipython",
    "version": 3
   },
   "file_extension": ".py",
   "mimetype": "text/x-python",
   "name": "python",
   "nbconvert_exporter": "python",
   "pygments_lexer": "ipython3",
   "version": "3.6.6"
  }
 },
 "nbformat": 4,
 "nbformat_minor": 2
}
